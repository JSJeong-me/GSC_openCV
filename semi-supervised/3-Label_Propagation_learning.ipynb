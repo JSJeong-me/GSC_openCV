{
  "nbformat": 4,
  "nbformat_minor": 0,
  "metadata": {
    "colab": {
      "provenance": []
    },
    "kernelspec": {
      "name": "python3",
      "display_name": "Python 3"
    },
    "language_info": {
      "name": "python"
    }
  },
  "cells": [
    {
      "cell_type": "markdown",
      "source": [
        "Label Propagation learning a complex structure\n",
        "\n",
        "We generate a dataset with two concentric circles. In addition, a label is associated with each sample of the dataset that is: 0 (belonging to the outer circle), 1 (belonging to the inner circle), and -1 (unknown). Here, all labels but two are tagged as unknown."
      ],
      "metadata": {
        "id": "-XjoXrX6XMG4"
      }
    },
    {
      "cell_type": "code",
      "execution_count": 2,
      "metadata": {
        "id": "-KO3522nXLdw"
      },
      "outputs": [],
      "source": [
        "import numpy as np\n",
        "from sklearn.datasets import make_circles\n",
        "\n",
        "n_samples = 200\n",
        "X, y = make_circles(n_samples=n_samples, shuffle=False)\n",
        "outer, inner = 0, 1\n",
        "labels = np.full(n_samples, -1.0)\n",
        "labels[0] = outer\n",
        "labels[-1] = inner"
      ]
    },
    {
      "cell_type": "code",
      "source": [
        "X[150:170]"
      ],
      "metadata": {
        "id": "1eIs0qP8z8DJ",
        "outputId": "af3c0e16-b58e-470d-d8d3-a4a5391a5273",
        "colab": {
          "base_uri": "https://localhost:8080/"
        }
      },
      "execution_count": 6,
      "outputs": [
        {
          "output_type": "execute_result",
          "data": {
            "text/plain": [
              "array([[-8.00000000e-01, -2.57299624e-16],\n",
              "       [-7.98421383e-01, -5.02324156e-02],\n",
              "       [-7.93691761e-01, -1.00266587e-01],\n",
              "       [-7.85829801e-01, -1.49905052e-01],\n",
              "       [-7.74866529e-01, -1.98951910e-01],\n",
              "       [-7.60845213e-01, -2.47213595e-01],\n",
              "       [-7.43821189e-01, -2.94499642e-01],\n",
              "       [-7.23861642e-01, -3.40623433e-01],\n",
              "       [-7.01045344e-01, -3.85402939e-01],\n",
              "       [-6.75462340e-01, -4.28661436e-01],\n",
              "       [-6.47213595e-01, -4.70228202e-01],\n",
              "       [-6.16410594e-01, -5.09939192e-01],\n",
              "       [-5.83174902e-01, -5.47637685e-01],\n",
              "       [-5.47637685e-01, -5.83174902e-01],\n",
              "       [-5.09939192e-01, -6.16410594e-01],\n",
              "       [-4.70228202e-01, -6.47213595e-01],\n",
              "       [-4.28661436e-01, -6.75462340e-01],\n",
              "       [-3.85402939e-01, -7.01045344e-01],\n",
              "       [-3.40623433e-01, -7.23861642e-01],\n",
              "       [-2.94499642e-01, -7.43821189e-01]])"
            ]
          },
          "metadata": {},
          "execution_count": 6
        }
      ]
    },
    {
      "cell_type": "code",
      "source": [
        "y[150:170]"
      ],
      "metadata": {
        "id": "Yhhr_Ohf0GRs",
        "outputId": "d9caddc7-deae-4cb0-a352-abc9f4c97d12",
        "colab": {
          "base_uri": "https://localhost:8080/"
        }
      },
      "execution_count": 7,
      "outputs": [
        {
          "output_type": "execute_result",
          "data": {
            "text/plain": [
              "array([1, 1, 1, 1, 1, 1, 1, 1, 1, 1, 1, 1, 1, 1, 1, 1, 1, 1, 1, 1])"
            ]
          },
          "metadata": {},
          "execution_count": 7
        }
      ]
    },
    {
      "cell_type": "markdown",
      "source": [
        "Plot raw data"
      ],
      "metadata": {
        "id": "i7quBxIYXhxG"
      }
    },
    {
      "cell_type": "code",
      "source": [
        "import matplotlib.pyplot as plt\n",
        "\n",
        "plt.figure(figsize=(4, 4))\n",
        "plt.scatter(\n",
        "    X[labels == outer, 0],\n",
        "    X[labels == outer, 1],\n",
        "    color=\"navy\",\n",
        "    marker=\"s\",\n",
        "    lw=0,\n",
        "    label=\"outer labeled\",\n",
        "    s=10,\n",
        ")\n",
        "plt.scatter(\n",
        "    X[labels == inner, 0],\n",
        "    X[labels == inner, 1],\n",
        "    color=\"c\",\n",
        "    marker=\"s\",\n",
        "    lw=0,\n",
        "    label=\"inner labeled\",\n",
        "    s=10,\n",
        ")\n",
        "plt.scatter(\n",
        "    X[labels == -1, 0],\n",
        "    X[labels == -1, 1],\n",
        "    color=\"darkorange\",\n",
        "    marker=\".\",\n",
        "    label=\"unlabeled\",\n",
        ")\n",
        "plt.legend(scatterpoints=1, shadow=False, loc=\"upper right\")\n",
        "plt.title(\"Raw data (2 classes=outer and inner)\")"
      ],
      "metadata": {
        "colab": {
          "base_uri": "https://localhost:8080/",
          "height": 300
        },
        "id": "wSm9Eaa2Xggd",
        "outputId": "7430d865-4a77-40ab-ed6c-71bbfea6b76d"
      },
      "execution_count": 8,
      "outputs": [
        {
          "output_type": "execute_result",
          "data": {
            "text/plain": [
              "Text(0.5, 1.0, 'Raw data (2 classes=outer and inner)')"
            ]
          },
          "metadata": {},
          "execution_count": 8
        },
        {
          "output_type": "display_data",
          "data": {
            "text/plain": [
              "<Figure size 288x288 with 1 Axes>"
            ],
            "image/png": "[encoded data removed]"
          },
          "metadata": {
            "needs_background": "light"
          }
        }
      ]
    },
    {
      "cell_type": "code",
      "source": [
        "from sklearn.semi_supervised import LabelSpreading\n",
        "\n",
        "label_spread = LabelSpreading(kernel=\"knn\", alpha=0.8)\n",
        "label_spread.fit(X, labels)"
      ],
      "metadata": {
        "id": "dcuEm1Ks0q4H",
        "outputId": "90149fd2-4848-489c-876e-8bdd7789b17c",
        "colab": {
          "base_uri": "https://localhost:8080/"
        }
      },
      "execution_count": 9,
      "outputs": [
        {
          "output_type": "execute_result",
          "data": {
            "text/plain": [
              "LabelSpreading(alpha=0.8, kernel='knn')"
            ]
          },
          "metadata": {},
          "execution_count": 9
        }
      ]
    },
    {
      "cell_type": "code",
      "source": [
        "output_labels = label_spread.transduction_\n",
        "output_label_array = np.asarray(output_labels)\n",
        "outer_numbers = np.where(output_label_array == outer)[0]\n",
        "inner_numbers = np.where(output_label_array == inner)[0]\n",
        "\n",
        "plt.figure(figsize=(4, 4))\n",
        "plt.scatter(\n",
        "    X[outer_numbers, 0],\n",
        "    X[outer_numbers, 1],\n",
        "    color=\"navy\",\n",
        "    marker=\"s\",\n",
        "    lw=0,\n",
        "    s=10,\n",
        "    label=\"outer learned\",\n",
        ")\n",
        "plt.scatter(\n",
        "    X[inner_numbers, 0],\n",
        "    X[inner_numbers, 1],\n",
        "    color=\"c\",\n",
        "    marker=\"s\",\n",
        "    lw=0,\n",
        "    s=10,\n",
        "    label=\"inner learned\",\n",
        ")\n",
        "plt.legend(scatterpoints=1, shadow=False, loc=\"upper right\")\n",
        "plt.title(\"Labels learned with Label Spreading (KNN)\")\n",
        "plt.show()"
      ],
      "metadata": {
        "id": "y9u24myc0tiW",
        "outputId": "477407f7-af30-4893-d2ce-61a40b537c0a",
        "colab": {
          "base_uri": "https://localhost:8080/",
          "height": 281
        }
      },
      "execution_count": 10,
      "outputs": [
        {
          "output_type": "display_data",
          "data": {
            "text/plain": [
              "<Figure size 288x288 with 1 Axes>"
            ],
            "image/png": "[encoded data removed]"
          },
          "metadata": {
            "needs_background": "light"
          }
        }
      ]
    },
    {
      "cell_type": "code",
      "source": [],
      "metadata": {
        "id": "J-bbEWXT1PbM"
      },
      "execution_count": null,
      "outputs": []
    },
    {
      "cell_type": "code",
      "source": [],
      "metadata": {
        "id": "UEpaGza80xkD"
      },
      "execution_count": null,
      "outputs": []
    }
  ]
}