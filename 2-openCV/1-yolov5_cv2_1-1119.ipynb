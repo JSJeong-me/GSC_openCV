{
  "cells": [
    {
      "cell_type": "code",
      "execution_count": null,
      "id": "00e496dc-2851-4d51-9df5-96c222d4223b",
      "metadata": {
        "id": "00e496dc-2851-4d51-9df5-96c222d4223b"
      },
      "outputs": [],
      "source": [
        "# !pip install GitPython"
      ]
    },
    {
      "cell_type": "code",
      "execution_count": 1,
      "id": "da68b377-0609-455e-872f-f64f9931d75e",
      "metadata": {
        "id": "da68b377-0609-455e-872f-f64f9931d75e",
        "outputId": "6cbf35ce-2826-46ff-b781-6454ad81fc75",
        "colab": {
          "base_uri": "https://localhost:8080/"
        }
      },
      "outputs": [
        {
          "output_type": "stream",
          "name": "stderr",
          "text": [
            "Using cache found in /root/.cache/torch/hub/ultralytics_yolov5_master\n",
            "YOLOv5 🚀 2022-11-19 Python-3.7.15 torch-1.12.1+cu113 CPU\n",
            "\n",
            "Fusing layers... \n",
            "YOLOv5s summary: 213 layers, 7225885 parameters, 0 gradients\n",
            "Adding AutoShape... \n"
          ]
        }
      ],
      "source": [
        "import torch\n",
        "\n",
        "# Model\n",
        "model = torch.hub.load('ultralytics/yolov5', 'yolov5s')"
      ]
    },
    {
      "cell_type": "code",
      "source": [
        "# Image\n",
        "img = 'data3.png'\n",
        "\n",
        "# Inference\n",
        "results = model(img)"
      ],
      "metadata": {
        "id": "cHMSWLAVi-s_"
      },
      "id": "cHMSWLAVi-s_",
      "execution_count": 2,
      "outputs": []
    },
    {
      "cell_type": "code",
      "source": [
        "type(results)"
      ],
      "metadata": {
        "id": "BhXen9snjB-o"
      },
      "id": "BhXen9snjB-o",
      "execution_count": null,
      "outputs": []
    },
    {
      "cell_type": "code",
      "source": [
        "results"
      ],
      "metadata": {
        "id": "5qzlcgz9jGCb",
        "outputId": "bc6fcaef-d656-451b-ad74-71b38c2c8103",
        "colab": {
          "base_uri": "https://localhost:8080/"
        }
      },
      "id": "5qzlcgz9jGCb",
      "execution_count": 3,
      "outputs": [
        {
          "output_type": "execute_result",
          "data": {
            "text/plain": [
              "YOLOv5 <class 'models.common.Detections'> instance\n",
              "image 1/1: 441x592 4 birds, 1 dog, 1 teddy bear\n",
              "Speed: 26.9ms pre-process, 325.6ms inference, 1.9ms NMS per image at shape (1, 3, 480, 640)"
            ]
          },
          "metadata": {},
          "execution_count": 3
        }
      ]
    },
    {
      "cell_type": "code",
      "execution_count": 4,
      "id": "619c6914-5761-4e6c-ad62-7c2046a211da",
      "metadata": {
        "id": "619c6914-5761-4e6c-ad62-7c2046a211da"
      },
      "outputs": [],
      "source": [
        "df = results.pandas().xyxy[0]"
      ]
    },
    {
      "cell_type": "code",
      "source": [
        "df"
      ],
      "metadata": {
        "id": "Yjb34dTsmQtw",
        "outputId": "ea85ce4d-cc30-43c8-cb26-3910080c2e1d",
        "colab": {
          "base_uri": "https://localhost:8080/",
          "height": 238
        }
      },
      "id": "Yjb34dTsmQtw",
      "execution_count": 5,
      "outputs": [
        {
          "output_type": "execute_result",
          "data": {
            "text/plain": [
              "         xmin        ymin        xmax        ymax  confidence  class  \\\n",
              "0  193.120102  214.451019  279.895966  358.984100    0.763078     14   \n",
              "1   11.447575  183.787582  206.729263  357.926544    0.709660     14   \n",
              "2  260.815247   83.323418  367.910583  364.829163    0.524266     16   \n",
              "3  260.085968   85.274223  370.461853  366.056702    0.413757     14   \n",
              "4  152.296600  194.366241  199.772827  346.306213    0.354318     14   \n",
              "5  451.544617  275.885712  568.488098  378.169250    0.304001     77   \n",
              "\n",
              "         name  \n",
              "0        bird  \n",
              "1        bird  \n",
              "2         dog  \n",
              "3        bird  \n",
              "4        bird  \n",
              "5  teddy bear  "
            ],
            "text/html": [
              "\n",
              "  <div id=\"df-104cea21-9611-4e66-a2ca-fdcc4b7f2679\">\n",
              "    <div class=\"colab-df-container\">\n",
              "      <div>\n",
              "<style scoped>\n",
              "    .dataframe tbody tr th:only-of-type {\n",
              "        vertical-align: middle;\n",
              "    }\n",
              "\n",
              "    .dataframe tbody tr th {\n",
              "        vertical-align: top;\n",
              "    }\n",
              "\n",
              "    .dataframe thead th {\n",
              "        text-align: right;\n",
              "    }\n",
              "</style>\n",
              "<table border=\"1\" class=\"dataframe\">\n",
              "  <thead>\n",
              "    <tr style=\"text-align: right;\">\n",
              "      <th></th>\n",
              "      <th>xmin</th>\n",
              "      <th>ymin</th>\n",
              "      <th>xmax</th>\n",
              "      <th>ymax</th>\n",
              "      <th>confidence</th>\n",
              "      <th>class</th>\n",
              "      <th>name</th>\n",
              "    </tr>\n",
              "  </thead>\n",
              "  <tbody>\n",
              "    <tr>\n",
              "      <th>0</th>\n",
              "      <td>193.120102</td>\n",
              "      <td>214.451019</td>\n",
              "      <td>279.895966</td>\n",
              "      <td>358.984100</td>\n",
              "      <td>0.763078</td>\n",
              "      <td>14</td>\n",
              "      <td>bird</td>\n",
              "    </tr>\n",
              "    <tr>\n",
              "      <th>1</th>\n",
              "      <td>11.447575</td>\n",
              "      <td>183.787582</td>\n",
              "      <td>206.729263</td>\n",
              "      <td>357.926544</td>\n",
              "      <td>0.709660</td>\n",
              "      <td>14</td>\n",
              "      <td>bird</td>\n",
              "    </tr>\n",
              "    <tr>\n",
              "      <th>2</th>\n",
              "      <td>260.815247</td>\n",
              "      <td>83.323418</td>\n",
              "      <td>367.910583</td>\n",
              "      <td>364.829163</td>\n",
              "      <td>0.524266</td>\n",
              "      <td>16</td>\n",
              "      <td>dog</td>\n",
              "    </tr>\n",
              "    <tr>\n",
              "      <th>3</th>\n",
              "      <td>260.085968</td>\n",
              "      <td>85.274223</td>\n",
              "      <td>370.461853</td>\n",
              "      <td>366.056702</td>\n",
              "      <td>0.413757</td>\n",
              "      <td>14</td>\n",
              "      <td>bird</td>\n",
              "    </tr>\n",
              "    <tr>\n",
              "      <th>4</th>\n",
              "      <td>152.296600</td>\n",
              "      <td>194.366241</td>\n",
              "      <td>199.772827</td>\n",
              "      <td>346.306213</td>\n",
              "      <td>0.354318</td>\n",
              "      <td>14</td>\n",
              "      <td>bird</td>\n",
              "    </tr>\n",
              "    <tr>\n",
              "      <th>5</th>\n",
              "      <td>451.544617</td>\n",
              "      <td>275.885712</td>\n",
              "      <td>568.488098</td>\n",
              "      <td>378.169250</td>\n",
              "      <td>0.304001</td>\n",
              "      <td>77</td>\n",
              "      <td>teddy bear</td>\n",
              "    </tr>\n",
              "  </tbody>\n",
              "</table>\n",
              "</div>\n",
              "      <button class=\"colab-df-convert\" onclick=\"convertToInteractive('df-104cea21-9611-4e66-a2ca-fdcc4b7f2679')\"\n",
              "              title=\"Convert this dataframe to an interactive table.\"\n",
              "              style=\"display:none;\">\n",
              "        \n",
              "  <svg xmlns=\"http://www.w3.org/2000/svg\" height=\"24px\"viewBox=\"0 0 24 24\"\n",
              "       width=\"24px\">\n",
              "    <path d=\"M0 0h24v24H0V0z\" fill=\"none\"/>\n",
              "    <path d=\"M18.56 5.44l.94 2.06.94-2.06 2.06-.94-2.06-.94-.94-2.06-.94 2.06-2.06.94zm-11 1L8.5 8.5l.94-2.06 2.06-.94-2.06-.94L8.5 2.5l-.94 2.06-2.06.94zm10 10l.94 2.06.94-2.06 2.06-.94-2.06-.94-.94-2.06-.94 2.06-2.06.94z\"/><path d=\"M17.41 7.96l-1.37-1.37c-.4-.4-.92-.59-1.43-.59-.52 0-1.04.2-1.43.59L10.3 9.45l-7.72 7.72c-.78.78-.78 2.05 0 2.83L4 21.41c.39.39.9.59 1.41.59.51 0 1.02-.2 1.41-.59l7.78-7.78 2.81-2.81c.8-.78.8-2.07 0-2.86zM5.41 20L4 18.59l7.72-7.72 1.47 1.35L5.41 20z\"/>\n",
              "  </svg>\n",
              "      </button>\n",
              "      \n",
              "  <style>\n",
              "    .colab-df-container {\n",
              "      display:flex;\n",
              "      flex-wrap:wrap;\n",
              "      gap: 12px;\n",
              "    }\n",
              "\n",
              "    .colab-df-convert {\n",
              "      background-color: #E8F0FE;\n",
              "      border: none;\n",
              "      border-radius: 50%;\n",
              "      cursor: pointer;\n",
              "      display: none;\n",
              "      fill: #1967D2;\n",
              "      height: 32px;\n",
              "      padding: 0 0 0 0;\n",
              "      width: 32px;\n",
              "    }\n",
              "\n",
              "    .colab-df-convert:hover {\n",
              "      background-color: #E2EBFA;\n",
              "      box-shadow: 0px 1px 2px rgba(60, 64, 67, 0.3), 0px 1px 3px 1px rgba(60, 64, 67, 0.15);\n",
              "      fill: #174EA6;\n",
              "    }\n",
              "\n",
              "    [theme=dark] .colab-df-convert {\n",
              "      background-color: #3B4455;\n",
              "      fill: #D2E3FC;\n",
              "    }\n",
              "\n",
              "    [theme=dark] .colab-df-convert:hover {\n",
              "      background-color: #434B5C;\n",
              "      box-shadow: 0px 1px 3px 1px rgba(0, 0, 0, 0.15);\n",
              "      filter: drop-shadow(0px 1px 2px rgba(0, 0, 0, 0.3));\n",
              "      fill: #FFFFFF;\n",
              "    }\n",
              "  </style>\n",
              "\n",
              "      <script>\n",
              "        const buttonEl =\n",
              "          document.querySelector('#df-104cea21-9611-4e66-a2ca-fdcc4b7f2679 button.colab-df-convert');\n",
              "        buttonEl.style.display =\n",
              "          google.colab.kernel.accessAllowed ? 'block' : 'none';\n",
              "\n",
              "        async function convertToInteractive(key) {\n",
              "          const element = document.querySelector('#df-104cea21-9611-4e66-a2ca-fdcc4b7f2679');\n",
              "          const dataTable =\n",
              "            await google.colab.kernel.invokeFunction('convertToInteractive',\n",
              "                                                     [key], {});\n",
              "          if (!dataTable) return;\n",
              "\n",
              "          const docLinkHtml = 'Like what you see? Visit the ' +\n",
              "            '<a target=\"_blank\" href=https://colab.research.google.com/notebooks/data_table.ipynb>data table notebook</a>'\n",
              "            + ' to learn more about interactive tables.';\n",
              "          element.innerHTML = '';\n",
              "          dataTable['output_type'] = 'display_data';\n",
              "          await google.colab.output.renderOutput(dataTable, element);\n",
              "          const docLink = document.createElement('div');\n",
              "          docLink.innerHTML = docLinkHtml;\n",
              "          element.appendChild(docLink);\n",
              "        }\n",
              "      </script>\n",
              "    </div>\n",
              "  </div>\n",
              "  "
            ]
          },
          "metadata": {},
          "execution_count": 5
        }
      ]
    },
    {
      "cell_type": "code",
      "source": [
        "df.iloc[5]"
      ],
      "metadata": {
        "id": "NxCvny26jU0n",
        "outputId": "56886a66-db7e-40ff-c31a-f6941b328e1a",
        "colab": {
          "base_uri": "https://localhost:8080/"
        }
      },
      "id": "NxCvny26jU0n",
      "execution_count": 14,
      "outputs": [
        {
          "output_type": "execute_result",
          "data": {
            "text/plain": [
              "xmin          451.544617\n",
              "ymin          275.885712\n",
              "xmax          568.488098\n",
              "ymax           378.16925\n",
              "confidence      0.304001\n",
              "class                 77\n",
              "name          teddy bear\n",
              "Name: 5, dtype: object"
            ]
          },
          "metadata": {},
          "execution_count": 14
        }
      ]
    },
    {
      "cell_type": "code",
      "source": [
        "from google.colab.patches import cv2_imshow"
      ],
      "metadata": {
        "id": "wJlCXhrlkBY1"
      },
      "id": "wJlCXhrlkBY1",
      "execution_count": 7,
      "outputs": []
    },
    {
      "cell_type": "code",
      "execution_count": 8,
      "id": "29def828-942c-4292-8ad4-215c22bb64ea",
      "metadata": {
        "id": "29def828-942c-4292-8ad4-215c22bb64ea"
      },
      "outputs": [],
      "source": [
        "import cv2"
      ]
    },
    {
      "cell_type": "code",
      "execution_count": 9,
      "id": "3e4d8429-b5ea-4bea-ab56-d3640092936d",
      "metadata": {
        "id": "3e4d8429-b5ea-4bea-ab56-d3640092936d"
      },
      "outputs": [],
      "source": [
        "src = cv2.imread('data3.png')"
      ]
    },
    {
      "cell_type": "code",
      "source": [
        "teddy = src[275:378, 451:568]"
      ],
      "metadata": {
        "id": "bRhbhZawmfZG"
      },
      "id": "bRhbhZawmfZG",
      "execution_count": 15,
      "outputs": []
    },
    {
      "cell_type": "code",
      "source": [
        "cv2_imshow(teddy)"
      ],
      "metadata": {
        "id": "sUfiPY-tmuuU",
        "outputId": "96e0e4f3-6bdd-47c5-a2b2-32df3cef2d4c",
        "colab": {
          "base_uri": "https://localhost:8080/",
          "height": 120
        }
      },
      "id": "sUfiPY-tmuuU",
      "execution_count": 16,
      "outputs": [
        {
          "output_type": "display_data",
          "data": {
            "text/plain": [
              "<PIL.Image.Image image mode=RGB size=117x103 at 0x7F81F6906890>"
            ],
            "image/png": "[encoded data removed]"
          },
          "metadata": {}
        }
      ]
    },
    {
      "cell_type": "code",
      "execution_count": null,
      "id": "9457bde4-5c17-4b49-929f-34d56e18017b",
      "metadata": {
        "id": "9457bde4-5c17-4b49-929f-34d56e18017b"
      },
      "outputs": [],
      "source": [
        "# elephant1 = src[171:318, 71:205]"
      ]
    },
    {
      "cell_type": "code",
      "execution_count": null,
      "id": "fadc8895-99f8-4431-acba-9a820ff0b8c8",
      "metadata": {
        "id": "fadc8895-99f8-4431-acba-9a820ff0b8c8"
      },
      "outputs": [],
      "source": [
        "# elephant2 = src[71:518, 254:869]"
      ]
    },
    {
      "cell_type": "code",
      "execution_count": null,
      "id": "80b4a7c0-984b-49b1-9728-7bf6e7a5cba4",
      "metadata": {
        "id": "80b4a7c0-984b-49b1-9728-7bf6e7a5cba4"
      },
      "outputs": [],
      "source": [
        "# cv2.imshow('Image', src)\n",
        "# cv2.imshow('Crop 1', elephant1)\n",
        "# cv2.imshow('Crop 2', elephant2)\n",
        "# cv2.waitKey(0) # 0 forever "
      ]
    },
    {
      "cell_type": "code",
      "source": [
        "cv2_imshow(elephant1)"
      ],
      "metadata": {
        "id": "AatxZM3HlECq"
      },
      "id": "AatxZM3HlECq",
      "execution_count": null,
      "outputs": []
    },
    {
      "cell_type": "code",
      "source": [
        "cv2_imshow(elephant2)"
      ],
      "metadata": {
        "id": "WzSqQeMSlK8F"
      },
      "id": "WzSqQeMSlK8F",
      "execution_count": null,
      "outputs": []
    },
    {
      "cell_type": "code",
      "execution_count": null,
      "id": "f6ce56d1-3fc0-47f4-99ce-561172956313",
      "metadata": {
        "id": "f6ce56d1-3fc0-47f4-99ce-561172956313"
      },
      "outputs": [],
      "source": [
        "cv2.imwrite('.\\\\crop_elephant1.png', elephant1)\n",
        "cv2.imwrite('.\\\\crop_elephant2.png', elephant2)"
      ]
    },
    {
      "cell_type": "code",
      "execution_count": null,
      "id": "6f7be265-c38f-47ef-a4da-b4c939eba94b",
      "metadata": {
        "id": "6f7be265-c38f-47ef-a4da-b4c939eba94b"
      },
      "outputs": [],
      "source": [
        "# cv2.destroyAllWindows()"
      ]
    }
  ],
  "metadata": {
    "kernelspec": {
      "display_name": "Python KOSA",
      "language": "python",
      "name": "kosa"
    },
    "language_info": {
      "codemirror_mode": {
        "name": "ipython",
        "version": 3
      },
      "file_extension": ".py",
      "mimetype": "text/x-python",
      "name": "python",
      "nbconvert_exporter": "python",
      "pygments_lexer": "ipython3",
      "version": "3.8.12"
    },
    "colab": {
      "provenance": []
    }
  },
  "nbformat": 4,
  "nbformat_minor": 5
}